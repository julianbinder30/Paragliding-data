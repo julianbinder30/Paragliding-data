{
 "cells": [
  {
   "cell_type": "markdown",
   "id": "f3baaf48",
   "metadata": {},
   "source": [
    "# Data analysis of XC data avaiable from the web\n",
    "### which is the most used EN-A wing for XC flying?"
   ]
  },
  {
   "cell_type": "markdown",
   "id": "254c5033",
   "metadata": {},
   "source": [
    "#### Task1: scrap the data from Xcontest.org. \n",
    "We can use the Online filter and filter after the EN-A class: https://www.xcontest.org/world/en/flights/#flights[sort]=distance@filter[detail_glider_catg]=FAI3-10|19\n",
    "\n",
    "Tutorial used:\n",
    "\n",
    "https://medium.com/analytics-vidhya/how-to-scrape-a-table-from-website-using-python-ce90d0cfb607"
   ]
  },
  {
   "cell_type": "code",
   "execution_count": 26,
   "id": "500b8fd8",
   "metadata": {},
   "outputs": [],
   "source": [
    "#make sure requests, beautifulsoup and pandas is installed in your enviroment\n",
    "\n",
    "import requests\n",
    "from bs4 import BeautifulSoup\n",
    "import pandas as pd\n",
    "\n",
    "#create url object\n",
    "url = 'https://www.xcontest.org/world/en/flights/#filter[detail_glider_catg]=FAI3-10|19@flights[sort]=reg'\n",
    "#create object page\n",
    "page = requests.get(url)\n",
    "\n",
    "# parser-lxml = Change html to Python friendly format\n",
    "# Obtain page's information\n",
    "soup = BeautifulSoup(page.text, 'lxml')\n",
    "\n",
    "# Obtain information from tag <table>\n",
    "table1 = soup.find('table', id='XClist')\n"
   ]
  },
  {
   "cell_type": "markdown",
   "id": "9a67ae9a",
   "metadata": {},
   "source": [
    "## Problem: the soup object does not contain a table, it seam it is hidden in a java script"
   ]
  },
  {
   "cell_type": "code",
   "execution_count": null,
   "id": "a5eaf1e7",
   "metadata": {},
   "outputs": [],
   "source": [
    "# define headers\n",
    "headers = ['No','start time', 'pilot', 'launch', 'route', 'length', 'points', 'airtime', 'glider', 'info']\n",
    "\n",
    "#alternative:\n",
    "# Obtain every title of columns with tag <th>\n",
    "#headers = []\n",
    "#for i in table1.find_all(‘th’):\n",
    "#    title = i.text\n",
    "#    headers.append(title)\n",
    "\n",
    "\n",
    "# Create a dataframe\n",
    "#mydata = pd.DataFrame(columns = headers)\n",
    "\n",
    "# Create a for loop to fill mydata\n",
    "#for j in table1.find_all('tr')[1:]:\n",
    "#    row_data = j.find_all('td')\n",
    "#    row = [i.text for i in row_data]\n",
    "#    length = len(mydata)\n",
    "#    mydata.loc[length] = row"
   ]
  },
  {
   "cell_type": "code",
   "execution_count": null,
   "id": "82565b09",
   "metadata": {},
   "outputs": [],
   "source": []
  }
 ],
 "metadata": {
  "kernelspec": {
   "display_name": "Python 3 (ipykernel)",
   "language": "python",
   "name": "python3"
  },
  "language_info": {
   "codemirror_mode": {
    "name": "ipython",
    "version": 3
   },
   "file_extension": ".py",
   "mimetype": "text/x-python",
   "name": "python",
   "nbconvert_exporter": "python",
   "pygments_lexer": "ipython3",
   "version": "3.9.7"
  }
 },
 "nbformat": 4,
 "nbformat_minor": 5
}
